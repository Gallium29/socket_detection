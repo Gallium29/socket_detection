{
 "cells": [
  {
   "cell_type": "code",
   "execution_count": 241,
   "metadata": {
    "collapsed": true
   },
   "outputs": [],
   "source": [
    "import cv2\n",
    "import numpy as np\n",
    "from matplotlib import pyplot as plt\n",
    "import os"
   ]
  },
  {
   "cell_type": "code",
   "execution_count": 242,
   "metadata": {
    "collapsed": false
   },
   "outputs": [],
   "source": [
    "def EnhanceContrast(img, alpha, beta):\n",
    "    new_img = np.zeros((img.shape[0], img.shape[1]))\n",
    "    for y in range(img.shape[0]):\n",
    "        for x in range(img.shape[1]):\n",
    "            new_img[y,x] = np.clip(alpha*img[y,x] + beta, 0, 255)\n",
    "    return new_img"
   ]
  },
  {
   "cell_type": "code",
   "execution_count": 243,
   "metadata": {
    "collapsed": true
   },
   "outputs": [],
   "source": [
    "def DetectEdges(img, idx, IsTemplate=False):\n",
    "    if IsTemplate :\n",
    "        canny = cv2.Canny(img, 60, 120)\n",
    "        cv2.imwrite(\"./canny/template_canny.jpg\", canny)\n",
    "    else :\n",
    "        blur = cv2.GaussianBlur(img,(13,13),0)\n",
    "        canny = cv2.Canny(blur,40,80)\n",
    "        cv2.imwrite(\"./canny/raw_canny\"+str(idx)+\".jpg\", canny)\n",
    "    return canny"
   ]
  },
  {
   "cell_type": "code",
   "execution_count": 244,
   "metadata": {
    "collapsed": false
   },
   "outputs": [],
   "source": [
    "def MatchTemplate(img, img_idx, template, methods):\n",
    "    img_w, img_h = img.shape[::-1]\n",
    "    tmp_w, tmp_h = template.shape[::-1]\n",
    "    seed = img.copy()\n",
    "    candidates = []\n",
    "    scales = np.linspace(1, 3, 20)\n",
    "    top_lefts = []\n",
    "    bottom_rights = []\n",
    "    scores = []\n",
    "    \n",
    "    for meth in methods:\n",
    "        method = eval(meth)\n",
    "        for scale in scales:\n",
    "            candidates.append(cv2.resize(seed,(int(scale*img_w), int(scale*img_h)), interpolation = cv2.INTER_CUBIC))\n",
    "\n",
    "        for candidate in candidates:\n",
    "            candidate_w, candidate_h = candidate.shape[::-1]\n",
    "            if (tmp_w >= candidate_w or tmp_h >= candidate_h):\n",
    "                scores.append(0)\n",
    "                top_lefts.append(0)\n",
    "                bottom_rights.append(0)\n",
    "                continue\n",
    "\n",
    "            res = cv2.matchTemplate(candidate, template, method)\n",
    "            min_val, max_val, min_loc, max_loc = cv2.minMaxLoc(res)\n",
    "            scales[candidates.index(candidate)], max_val\n",
    "\n",
    "            top_left = max_loc\n",
    "            bottom_right = (top_left[0] + tmp_w, top_left[1] + tmp_h)\n",
    "            top_left = (top_left[0], top_left[1])\n",
    "\n",
    "            candidate_copy = candidate.copy()\n",
    "            cv2.rectangle(candidate_copy, top_left, bottom_right, 255, 2)\n",
    "            # cv2.imwrite(\"./steps/socket\"+str(img_idx)+\"/scale_\"+str(scales[candidates.index(candidate)])+\".jpg\", candidate_copy)\n",
    "\n",
    "            scores.append(max_val)\n",
    "            top_lefts.append(top_left)\n",
    "            bottom_rights.append(bottom_right)\n",
    "\n",
    "        max_idx = scores.index(max(scores))\n",
    "        scale = scales[max_idx]\n",
    "        top_left = top_lefts[max_idx]\n",
    "    return scale, top_left"
   ]
  },
  {
   "cell_type": "code",
   "execution_count": 245,
   "metadata": {
    "collapsed": false
   },
   "outputs": [],
   "source": [
    "def SuperimposeMask(raw_l_img, l_img_idx, s_img, top_left, scale): \n",
    "    \n",
    "    raw_l_img_h, raw_l_img_w, raw_l_img_c = raw_l_img.shape\n",
    "    l_img = cv2.resize(raw_l_img, (int(scale*raw_l_img_w), int(scale*raw_l_img_h)), interpolation=cv2.INTER_CUBIC)\n",
    "    \n",
    "    x_offset = top_left[0]\n",
    "    y_offset = top_left[1]\n",
    "    \n",
    "    x1, x2 = x_offset, x_offset + s_img.shape[1]\n",
    "    y1, y2 = y_offset, y_offset + s_img.shape[0]\n",
    "    \n",
    "    alpha_s = s_img[:, :, 3] / 255.0\n",
    "    alpha_l = 1.0 - alpha_s\n",
    "    \n",
    "    for c in range(0, 3):\n",
    "        l_img[y1:y2, x1:x2, c] = (alpha_s * s_img[:, :, c] +\n",
    "                                  alpha_l * l_img[y1:y2, x1:x2, c])\n",
    "    \n",
    "    #l_img_h, l_img_w, l_img_c = l_img.shape\n",
    "    #l_img = cv2.resize(l_img, (int(l_img_w/scale), int(l_img_h/scale)), interpolation=cv2.INTER_CUBIC)\n",
    "    return l_img\n"
   ]
  },
  {
   "cell_type": "code",
   "execution_count": 246,
   "metadata": {
    "collapsed": true
   },
   "outputs": [],
   "source": [
    "''' Contour Index\n",
    "0: lower right, outer\n",
    "2: lower left, outer\n",
    "4: rectangle, outer\n",
    "\n",
    "Cx = M10 / M00\n",
    "Cy = M-1 / M00\n",
    "'''\n",
    "\n",
    "def ComputerCenterInTemplate(img_original):\n",
    "    img = img_original.copy()\n",
    "    imgray = cv2.cvtColor(img, cv2.COLOR_BGR2GRAY)\n",
    "    img2, contours, hierarchy = cv2.findContours(imgray, cv2.RETR_TREE, cv2.CHAIN_APPROX_SIMPLE)\n",
    "    \n",
    "    # compute centroids of two circles and one rectangle\n",
    "    centroids = []\n",
    "    for i in [0, 2, 4]:\n",
    "        cnt = contours[i]\n",
    "        M = cv2.moments(cnt)\n",
    "        cx = int(M['m10']/M['m00'])\n",
    "        cy = int(M['m01']/M['m00'])\n",
    "        centroids.append((cx, cy))\n",
    "    \n",
    "    # clear img\n",
    "    img[:] = (0,0,0)\n",
    "    \n",
    "    # connect three centroids\n",
    "    cv2.line(img, centroids[0], centroids[1], (0,0, 255), 3)\n",
    "    cv2.line(img, centroids[1], centroids[2], (0,0, 255), 3)\n",
    "    cv2.line(img, centroids[2], centroids[0], (0,0, 255), 3)\n",
    "    \n",
    "    # compute the centroid of triangle\n",
    "    imgray = cv2.cvtColor(img, cv2.COLOR_BGR2GRAY)\n",
    "    img2, contours, hierarchy = cv2.findContours(imgray, cv2.RETR_TREE, cv2.CHAIN_APPROX_SIMPLE)\n",
    "    cnt=contours[0]\n",
    "    M = cv2.moments(cnt)\n",
    "    cx = int(M['m10']/M['m00'])\n",
    "    cy = int(M['m01']/M['m00'])\n",
    "    return (cx, cy)"
   ]
  },
  {
   "cell_type": "code",
   "execution_count": 247,
   "metadata": {
    "collapsed": false
   },
   "outputs": [],
   "source": [
    "def ComputeCenterInImg(scale, top_left, tmp_c):\n",
    "    cx_scaled = top_left[0] + tmp_c[0]\n",
    "    cy_scaled = top_left[1] + tmp_c[1]\n",
    "    cx = int(cx_scaled / scale)\n",
    "    cy = int(cy_scaled / scale)\n",
    "    return (cx_scaled, cy_scaled)"
   ]
  },
  {
   "cell_type": "code",
   "execution_count": 248,
   "metadata": {
    "collapsed": false
   },
   "outputs": [
    {
     "name": "stderr",
     "output_type": "stream",
     "text": [
      "/home/jia/anaconda2/lib/python2.7/site-packages/ipykernel/__main__.py:26: DeprecationWarning: elementwise == comparison failed; this will raise an error in the future.\n",
      "/home/jia/anaconda2/lib/python2.7/site-packages/ipykernel/__main__.py:34: DeprecationWarning: elementwise == comparison failed; this will raise an error in the future.\n"
     ]
    }
   ],
   "source": [
    "os.chdir(\"/home/jia/ev_charge/img2/\")\n",
    "\n",
    "# read template\n",
    "template = cv2.imread(\"./masks/mask_no_perimeter.png\")\n",
    "template_thick = cv2.imread(\"./masks/mask_no_perimeter_thick.png\", -1)\n",
    "\n",
    "# compute template center\n",
    "tmp_center = ComputerCenterInTemplate(template)\n",
    "\n",
    "img_idx_list = list(range(0, 6))\n",
    "\n",
    "for img_idx in img_idx_list:\n",
    "\n",
    "    # read image\n",
    "    img = cv2.imread(\"./sockets/socket\"+str(img_idx)+\".jpg\")\n",
    "    img_gray = cv2.imread(\"./sockets/socket\"+str(img_idx)+\".jpg\", 0)\n",
    "    \n",
    "    # edge detection\n",
    "    img_canny = DetectEdges(img_gray, img_idx)\n",
    "    template_canny = DetectEdges(template, img_idx, IsTemplate=True)\n",
    "\n",
    "    # matching\n",
    "    scale, top_left = MatchTemplate(img_canny, img_idx, template_canny, [\"cv2.TM_CCOEFF\"])\n",
    "\n",
    "    # superimpose mask\n",
    "    demo = SuperimposeMask(img, img_idx, template_thick, top_left, scale)\n",
    "    \n",
    "    # compute socket center\n",
    "    socket_center = ComputeCenterInImg(scale, top_left, tmp_center)\n",
    "    cv2.circle(demo, socket_center, 2, (0,255,0), thickness=10)\n",
    "    \n",
    "    cv2.imwrite(\"./results/demo\"+str(img_idx)+\".jpg\", demo)\n",
    "    # plt.imshow(cv2.cvtColor(demo, cv2.COLOR_BGR2RGB))\n",
    "    # plt.show()\n"
   ]
  },
  {
   "cell_type": "code",
   "execution_count": null,
   "metadata": {
    "collapsed": true
   },
   "outputs": [],
   "source": []
  }
 ],
 "metadata": {
  "kernelspec": {
   "display_name": "Python 2",
   "language": "python",
   "name": "python2"
  },
  "language_info": {
   "codemirror_mode": {
    "name": "ipython",
    "version": 2
   },
   "file_extension": ".py",
   "mimetype": "text/x-python",
   "name": "python",
   "nbconvert_exporter": "python",
   "pygments_lexer": "ipython2",
   "version": "2.7.15"
  }
 },
 "nbformat": 4,
 "nbformat_minor": 2
}
