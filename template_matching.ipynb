{
 "cells": [
  {
   "cell_type": "code",
   "execution_count": 304,
   "metadata": {
    "collapsed": true
   },
   "outputs": [],
   "source": [
    "import cv2\n",
    "import numpy as np\n",
    "from matplotlib import pyplot as plt\n",
    "import os"
   ]
  },
  {
   "cell_type": "code",
   "execution_count": 305,
   "metadata": {
    "collapsed": false
   },
   "outputs": [],
   "source": [
    "def EnhanceContrast(img, alpha, beta):\n",
    "    new_img = np.zeros((img.shape[0], img.shape[1]))\n",
    "    for y in range(img.shape[0]):\n",
    "        for x in range(img.shape[1]):\n",
    "            new_img[y,x] = np.clip(alpha*img[y,x] + beta, 0, 255)\n",
    "    return new_img"
   ]
  },
  {
   "cell_type": "code",
   "execution_count": 306,
   "metadata": {
    "collapsed": true
   },
   "outputs": [],
   "source": [
    "def DetectEdges(img, IsTemplate=False):\n",
    "    if IsTemplate :\n",
    "        canny = cv2.Canny(img, 60, 120)\n",
    "    else :\n",
    "        blur = cv2.GaussianBlur(img,(13,13),0)\n",
    "        canny = cv2.Canny(blur,40,80)\n",
    "    return canny"
   ]
  },
  {
   "cell_type": "code",
   "execution_count": 307,
   "metadata": {
    "collapsed": false
   },
   "outputs": [],
   "source": [
    "def MatchTemplate(img, template, methods):\n",
    "    img_w, img_h = img.shape[::-1]\n",
    "    tmp_w, tmp_h = template.shape[::-1]\n",
    "    seed = img.copy()\n",
    "    candidates = []\n",
    "    scales = np.linspace(1, 4, 20)\n",
    "    top_lefts = []\n",
    "    bottom_rights = []\n",
    "    scores = []\n",
    "    \n",
    "    for meth in methods:\n",
    "        method = eval(meth)\n",
    "        for scale in scales:\n",
    "            candidates.append(cv2.resize(seed,(int(scale*img_w), int(scale*img_h)), interpolation = cv2.INTER_CUBIC))\n",
    "\n",
    "        for candidate in candidates:\n",
    "            candidate_w, candidate_h = candidate.shape[::-1]\n",
    "            if (tmp_w >= candidate_w or tmp_h >= candidate_h):\n",
    "                scores.append(0)\n",
    "                top_lefts.append(0)\n",
    "                bottom_rights.append(0)\n",
    "                continue\n",
    "\n",
    "            res = cv2.matchTemplate(candidate, template, method)\n",
    "            min_val, max_val, min_loc, max_loc = cv2.minMaxLoc(res)\n",
    "            scales[candidates.index(candidate)], max_val\n",
    "\n",
    "            top_left = max_loc\n",
    "            bottom_right = (top_left[0] + tmp_w, top_left[1] + tmp_h)\n",
    "            top_left = (top_left[0], top_left[1])\n",
    "\n",
    "            candidate_copy = candidate.copy()\n",
    "            cv2.rectangle(candidate_copy, top_left, bottom_right, 255, 2)\n",
    "\n",
    "            scores.append(max_val)\n",
    "            top_lefts.append(top_left)\n",
    "            bottom_rights.append(bottom_right)\n",
    "\n",
    "        max_idx = scores.index(max(scores))\n",
    "        scale = scales[max_idx]\n",
    "        top_left = top_lefts[max_idx]\n",
    "    return scale, top_left"
   ]
  },
  {
   "cell_type": "code",
   "execution_count": 308,
   "metadata": {
    "collapsed": false
   },
   "outputs": [],
   "source": [
    "def SuperimposeMask(raw_l_img, s_img, top_left, scale): \n",
    "    \n",
    "    raw_l_img_h, raw_l_img_w, raw_l_img_c = raw_l_img.shape\n",
    "    l_img = cv2.resize(raw_l_img, (int(scale*raw_l_img_w), int(scale*raw_l_img_h)), interpolation=cv2.INTER_CUBIC)\n",
    "    \n",
    "    x_offset = top_left[0]\n",
    "    y_offset = top_left[1]\n",
    "    \n",
    "    x1, x2 = x_offset, x_offset + s_img.shape[1]\n",
    "    y1, y2 = y_offset, y_offset + s_img.shape[0]\n",
    "    \n",
    "    alpha_s = s_img[:, :, 3] / 255.0\n",
    "    alpha_l = 1.0 - alpha_s\n",
    "    \n",
    "    for c in range(0, 3):\n",
    "        l_img[y1:y2, x1:x2, c] = (alpha_s * s_img[:, :, c] +\n",
    "                                  alpha_l * l_img[y1:y2, x1:x2, c])\n",
    "\n",
    "    return l_img\n"
   ]
  },
  {
   "cell_type": "code",
   "execution_count": 309,
   "metadata": {
    "collapsed": true
   },
   "outputs": [],
   "source": [
    "''' Contour Index\n",
    "0: lower right, outer\n",
    "2: lower left, outer\n",
    "4: rectangle, outer\n",
    "\n",
    "Cx = M10 / M00\n",
    "Cy = M-1 / M00\n",
    "'''\n",
    "\n",
    "def ComputerCenterInTemplate(img_original):\n",
    "    img = img_original.copy()\n",
    "    imgray = cv2.cvtColor(img, cv2.COLOR_BGR2GRAY)\n",
    "    img2, contours, hierarchy = cv2.findContours(imgray, cv2.RETR_TREE, cv2.CHAIN_APPROX_SIMPLE)\n",
    "    \n",
    "    # compute centroids of two circles and one rectangle\n",
    "    centroids = []\n",
    "    for i in [0, 2, 4]:\n",
    "        cnt = contours[i]\n",
    "        M = cv2.moments(cnt)\n",
    "        cx = int(M['m10']/M['m00'])\n",
    "        cy = int(M['m01']/M['m00'])\n",
    "        centroids.append((cx, cy))\n",
    "    \n",
    "    # clear img\n",
    "    img[:] = (0,0,0)\n",
    "    \n",
    "    # connect three centroids\n",
    "    cv2.line(img, centroids[0], centroids[1], (0,0, 255), 3)\n",
    "    cv2.line(img, centroids[1], centroids[2], (0,0, 255), 3)\n",
    "    cv2.line(img, centroids[2], centroids[0], (0,0, 255), 3)\n",
    "    \n",
    "    # compute the centroid of triangle\n",
    "    imgray = cv2.cvtColor(img, cv2.COLOR_BGR2GRAY)\n",
    "    img2, contours, hierarchy = cv2.findContours(imgray, cv2.RETR_TREE, cv2.CHAIN_APPROX_SIMPLE)\n",
    "    cnt=contours[0]\n",
    "    M = cv2.moments(cnt)\n",
    "    cx = int(M['m10']/M['m00'])\n",
    "    cy = int(M['m01']/M['m00'])\n",
    "    return (cx, cy)"
   ]
  },
  {
   "cell_type": "code",
   "execution_count": 310,
   "metadata": {
    "collapsed": false
   },
   "outputs": [],
   "source": [
    "def ComputeCenterInImg(scale, top_left, tmp_c):\n",
    "    cx_scaled = top_left[0] + tmp_c[0]\n",
    "    cy_scaled = top_left[1] + tmp_c[1]\n",
    "    cx = int(cx_scaled / scale)\n",
    "    cy = int(cy_scaled / scale)\n",
    "    return (cx_scaled, cy_scaled)"
   ]
  },
  {
   "cell_type": "code",
   "execution_count": 311,
   "metadata": {
    "collapsed": true
   },
   "outputs": [],
   "source": [
    "def ComputeWidthReference():\n",
    "    img = cv2.imread(\"./sockets/socket0.jpg\")\n",
    "    h, w, c = img.shape\n",
    "    return w"
   ]
  },
  {
   "cell_type": "code",
   "execution_count": 312,
   "metadata": {
    "collapsed": false
   },
   "outputs": [
    {
     "name": "stdout",
     "output_type": "stream",
     "text": [
      "socket id:  0\n",
      "shrinkage:  0.326797385621\n",
      "shape after normalization (533, 400, 3) 0.326797385621\n",
      "edge detection finished...\n"
     ]
    },
    {
     "name": "stderr",
     "output_type": "stream",
     "text": [
      "/home/jia/anaconda2/lib/python2.7/site-packages/ipykernel/__main__.py:26: DeprecationWarning: elementwise == comparison failed; this will raise an error in the future.\n"
     ]
    },
    {
     "name": "stdout",
     "output_type": "stream",
     "text": [
      "matching finished...\n",
      "superimposing mask finished...\n",
      "center computation finished...\n",
      "result saved...\n",
      "\n",
      "socket id:  1\n",
      "shrinkage:  0.326797385621\n",
      "shape after normalization (533, 400, 3) 0.326797385621\n",
      "edge detection finished...\n",
      "matching finished...\n",
      "superimposing mask finished...\n",
      "center computation finished...\n",
      "result saved...\n",
      "\n",
      "socket id:  2\n",
      "shrinkage:  0.326797385621\n",
      "shape after normalization (533, 400, 3) 0.326797385621\n",
      "edge detection finished...\n",
      "matching finished...\n",
      "superimposing mask finished...\n",
      "center computation finished...\n",
      "result saved...\n",
      "\n",
      "socket id:  3\n",
      "shrinkage:  0.326797385621\n",
      "shape after normalization (533, 400, 3) 0.326797385621\n",
      "edge detection finished...\n",
      "matching finished...\n",
      "superimposing mask finished...\n",
      "center computation finished...\n",
      "result saved...\n",
      "\n",
      "socket id:  4\n",
      "shrinkage:  0.326797385621\n",
      "shape after normalization (533, 400, 3) 0.326797385621\n",
      "edge detection finished...\n",
      "matching finished...\n",
      "superimposing mask finished...\n",
      "center computation finished...\n",
      "result saved...\n",
      "\n",
      "socket id:  5\n",
      "shrinkage:  0.326797385621\n",
      "shape after normalization (533, 400, 3) 0.326797385621\n",
      "edge detection finished...\n",
      "matching finished...\n",
      "superimposing mask finished...\n",
      "center computation finished...\n",
      "result saved...\n",
      "\n",
      "socket id:  6\n",
      "shrinkage:  0.326797385621\n",
      "shape after normalization (533, 400, 3) 0.326797385621\n",
      "edge detection finished...\n"
     ]
    },
    {
     "ename": "KeyboardInterrupt",
     "evalue": "",
     "output_type": "error",
     "traceback": [
      "\u001b[0;31m---------------------------------------------------------------------------\u001b[0m",
      "\u001b[0;31mKeyboardInterrupt\u001b[0m                         Traceback (most recent call last)",
      "\u001b[0;32m<ipython-input-312-f799855ba775>\u001b[0m in \u001b[0;36m<module>\u001b[0;34m()\u001b[0m\n\u001b[1;32m     47\u001b[0m \u001b[0;34m\u001b[0m\u001b[0m\n\u001b[1;32m     48\u001b[0m     \u001b[0;31m# match\u001b[0m\u001b[0;34m\u001b[0m\u001b[0;34m\u001b[0m\u001b[0m\n\u001b[0;32m---> 49\u001b[0;31m     \u001b[0mscale\u001b[0m\u001b[0;34m,\u001b[0m \u001b[0mtop_left\u001b[0m \u001b[0;34m=\u001b[0m \u001b[0mMatchTemplate\u001b[0m\u001b[0;34m(\u001b[0m\u001b[0mimg_canny\u001b[0m\u001b[0;34m,\u001b[0m \u001b[0mtemplate_canny\u001b[0m\u001b[0;34m,\u001b[0m \u001b[0;34m[\u001b[0m\u001b[0;34m\"cv2.TM_CCOEFF\"\u001b[0m\u001b[0;34m]\u001b[0m\u001b[0;34m)\u001b[0m\u001b[0;34m\u001b[0m\u001b[0m\n\u001b[0m\u001b[1;32m     50\u001b[0m     \u001b[0;32mif\u001b[0m \u001b[0mdebug\u001b[0m\u001b[0;34m:\u001b[0m\u001b[0;34m\u001b[0m\u001b[0m\n\u001b[1;32m     51\u001b[0m         \u001b[0;32mprint\u001b[0m \u001b[0;34m\"matching finished...\"\u001b[0m\u001b[0;34m\u001b[0m\u001b[0m\n",
      "\u001b[0;32m<ipython-input-307-e18b002de7a0>\u001b[0m in \u001b[0;36mMatchTemplate\u001b[0;34m(img, template, methods)\u001b[0m\n\u001b[1;32m     22\u001b[0m                 \u001b[0;32mcontinue\u001b[0m\u001b[0;34m\u001b[0m\u001b[0m\n\u001b[1;32m     23\u001b[0m \u001b[0;34m\u001b[0m\u001b[0m\n\u001b[0;32m---> 24\u001b[0;31m             \u001b[0mres\u001b[0m \u001b[0;34m=\u001b[0m \u001b[0mcv2\u001b[0m\u001b[0;34m.\u001b[0m\u001b[0mmatchTemplate\u001b[0m\u001b[0;34m(\u001b[0m\u001b[0mcandidate\u001b[0m\u001b[0;34m,\u001b[0m \u001b[0mtemplate\u001b[0m\u001b[0;34m,\u001b[0m \u001b[0mmethod\u001b[0m\u001b[0;34m)\u001b[0m\u001b[0;34m\u001b[0m\u001b[0m\n\u001b[0m\u001b[1;32m     25\u001b[0m             \u001b[0mmin_val\u001b[0m\u001b[0;34m,\u001b[0m \u001b[0mmax_val\u001b[0m\u001b[0;34m,\u001b[0m \u001b[0mmin_loc\u001b[0m\u001b[0;34m,\u001b[0m \u001b[0mmax_loc\u001b[0m \u001b[0;34m=\u001b[0m \u001b[0mcv2\u001b[0m\u001b[0;34m.\u001b[0m\u001b[0mminMaxLoc\u001b[0m\u001b[0;34m(\u001b[0m\u001b[0mres\u001b[0m\u001b[0;34m)\u001b[0m\u001b[0;34m\u001b[0m\u001b[0m\n\u001b[1;32m     26\u001b[0m             \u001b[0mscales\u001b[0m\u001b[0;34m[\u001b[0m\u001b[0mcandidates\u001b[0m\u001b[0;34m.\u001b[0m\u001b[0mindex\u001b[0m\u001b[0;34m(\u001b[0m\u001b[0mcandidate\u001b[0m\u001b[0;34m)\u001b[0m\u001b[0;34m]\u001b[0m\u001b[0;34m,\u001b[0m \u001b[0mmax_val\u001b[0m\u001b[0;34m\u001b[0m\u001b[0m\n",
      "\u001b[0;31mKeyboardInterrupt\u001b[0m: "
     ]
    }
   ],
   "source": [
    "os.chdir(\"/home/jia/ev_charge/img2/\")\n",
    "\n",
    "debug = True\n",
    "\n",
    "# read template\n",
    "template = cv2.imread(\"./masks/mask_thin.png\")\n",
    "template_thick = cv2.imread(\"./masks/mask_thick.png\", -1)\n",
    "\n",
    "# compute template center\n",
    "tmp_center = ComputerCenterInTemplate(template)\n",
    "\n",
    "# set standard width\n",
    "standard_w = 400\n",
    "\n",
    "# set dataset\n",
    "img_idx_list = list(range(0, 53))\n",
    "\n",
    "\n",
    "for img_idx in img_idx_list:\n",
    "    print \"processing socket\"+img_idx\n",
    "\n",
    "    # read image\n",
    "    img = cv2.imread(\"./sockets/socket\"+str(img_idx)+\".jpg\")\n",
    "    img_gray = cv2.imread(\"./sockets/socket\"+str(img_idx)+\".jpg\", 0)\n",
    "    \n",
    "    # nomarlize img width\n",
    "    shrinkage = standard_w / float(img.shape[1])\n",
    "    img = cv2.resize(img, \n",
    "                     (int(img.shape[1]*shrinkage), int(img.shape[0]*shrinkage)), \n",
    "                     interpolation=cv2.INTER_CUBIC)    \n",
    "    img_gray = cv2.resize(img_gray, \n",
    "                     (int(img_gray.shape[1]*shrinkage), int(img_gray.shape[0]*shrinkage)), \n",
    "                     interpolation=cv2.INTER_CUBIC)\n",
    "    if debug:\n",
    "        print \"shrinkage: \", shrinkage\n",
    "        print \"shape after normalization\", img.shape, shrinkage\n",
    "    \n",
    "        \n",
    "    # edge detection\n",
    "    img_canny = DetectEdges(img_gray, img_idx)\n",
    "    template_canny = DetectEdges(template, IsTemplate=True)\n",
    "    if debug:\n",
    "        cv2.imwrite(\"./canny/raw_canny\"+str(img_idx)+\".jpg\", img_canny)\n",
    "        cv2.imwrite(\"./canny/template_canny.jpg\", template_canny)\n",
    "        print \"edge detection finished...\"\n",
    "\n",
    "    # match\n",
    "    scale, top_left = MatchTemplate(img_canny, template_canny, [\"cv2.TM_CCOEFF\"])\n",
    "    if debug:\n",
    "        print \"matching finished...\"\n",
    "\n",
    "    # superimpose mask\n",
    "    demo = SuperimposeMask(img, template_thick, top_left, scale)\n",
    "    if debug:\n",
    "        print \"superimposing mask finished...\"\n",
    "    \n",
    "    # compute socket center\n",
    "    socket_center = ComputeCenterInImg(scale, top_left, tmp_center)\n",
    "    if debug:\n",
    "        print \"center computation finished...\"\n",
    "    \n",
    "    # draw center\n",
    "    cv2.circle(demo, socket_center, 2, (0,255,0), thickness=10)\n",
    "    cv2.imwrite(\"./results/demo\"+str(img_idx)+\".jpg\", demo)\n",
    "    if debug:\n",
    "        print \"result saved...\"\n",
    "        print \"\"\n"
   ]
  },
  {
   "cell_type": "code",
   "execution_count": null,
   "metadata": {
    "collapsed": false
   },
   "outputs": [],
   "source": [
    "\n",
    "'''\n",
    "# read template\n",
    "template = cv2.imread(\"./masks/mask_no_perimeter.png\", -1)\n",
    "template_thick = cv2.imread(\"./masks/mask_no_perimeter_thick.png\", -1)\n",
    "\n",
    "template = cv2.resize(template, \n",
    "                      (int(template.shape[1]*0.5), int(template.shape[0]*0.5)), \n",
    "                      interpolation=cv2.INTER_CUBIC)\n",
    "\n",
    "template_thick = cv2.resize(template_thick, \n",
    "                      (int(template_thick.shape[1]*0.5), int(template_thick.shape[0]*0.5)), \n",
    "                      interpolation=cv2.INTER_CUBIC)\n",
    "\n",
    "cv2.imwrite(\"./masks/mask_thin.png\", template)\n",
    "cv2.imwrite(\"./masks/mask_thick.png\", template_thick)\n",
    "'''"
   ]
  },
  {
   "cell_type": "code",
   "execution_count": null,
   "metadata": {
    "collapsed": true
   },
   "outputs": [],
   "source": []
  }
 ],
 "metadata": {
  "kernelspec": {
   "display_name": "Python 2",
   "language": "python",
   "name": "python2"
  },
  "language_info": {
   "codemirror_mode": {
    "name": "ipython",
    "version": 2
   },
   "file_extension": ".py",
   "mimetype": "text/x-python",
   "name": "python",
   "nbconvert_exporter": "python",
   "pygments_lexer": "ipython2",
   "version": "2.7.15"
  }
 },
 "nbformat": 4,
 "nbformat_minor": 2
}
